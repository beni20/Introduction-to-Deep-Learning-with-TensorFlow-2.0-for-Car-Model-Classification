{
 "cells": [
  {
   "cell_type": "code",
   "execution_count": 2,
   "metadata": {},
   "outputs": [
    {
     "name": "stdout",
     "output_type": "stream",
     "text": [
      "2.3.0\n"
     ]
    }
   ],
   "source": [
    "import numpy as np\n",
    "import matplotlib.pyplot as plt\n",
    "import os\n",
    "import pathlib\n",
    "\n",
    "import tensorflow as tf\n",
    "\n",
    "\n",
    "print(tf.__version__)\n",
    "\n",
    "train_data_dir = pathlib.Path(\"./data/train\")\n",
    "val_data_dir = pathlib.Path(\"./data/validation\")\n",
    "test_data_dir = pathlib.Path(\"./data/test\")\n"
   ]
  },
  {
   "cell_type": "code",
   "execution_count": 3,
   "metadata": {},
   "outputs": [],
   "source": [
    "train_image_count = len(list(train_data_dir.glob('*/*.jpg')))\n",
    "test_image_count = len(list(test_data_dir.glob('*/*.jpg')))\n",
    "val_image_count = len(list(val_data_dir.glob('*/*.jpg')))\n",
    "\n",
    "train_list_ds = tf.data.Dataset.list_files(str(train_data_dir/'*/*'))\n",
    "val_list_ds = tf.data.Dataset.list_files(str(val_data_dir/'*/*'))\n",
    "test_list_ds = tf.data.Dataset.list_files(str(test_data_dir/'*/*'))"
   ]
  },
  {
   "cell_type": "code",
   "execution_count": 24,
   "metadata": {},
   "outputs": [
    {
     "name": "stdout",
     "output_type": "stream",
     "text": [
      "Class names: ['swift' 'wagonr']\n"
     ]
    }
   ],
   "source": [
    "class_names = np.array([item.name for item in train_data_dir.glob('*')])\n",
    "print(f\"Class names: {class_names}\")\n",
    "\n",
    "#data augmentation function\n",
    "IMG_WIDTH=100\n",
    "IMG_HEIGHT=100\n",
    "\n",
    "def decode_img(img):\n",
    "  img = tf.image.decode_jpeg(img, channels=3)\n",
    "  img = tf.image.convert_image_dtype(img, tf.float32)\n",
    "  return tf.image.resize(img, [IMG_WIDTH, IMG_HEIGHT])\n",
    "\n",
    "def get_label(path):\n",
    "  parts = tf.strings.split(path, os.path.sep)\n",
    "  return parts[-2] == class_names[0]\n",
    "\n",
    "def process_path(file_path):\n",
    "  img = tf.io.read_file(file_path)\n",
    "  img = decode_img(img)\n",
    "  label = get_label(file_path)\n",
    "  return img, label"
   ]
  },
  {
   "cell_type": "code",
   "execution_count": 90,
   "metadata": {},
   "outputs": [],
   "source": [
    "AUTOTUNE = tf.data.experimental.AUTOTUNE\n",
    "\n",
    "train_labeled_ds = train_list_ds.map(process_path, num_parallel_calls=AUTOTUNE)\n",
    "#train_labeled_ds = train_labeled_ds.cache().shuffle()\n",
    "#train_labeled_ds = train_labeled_ds.repeat()\n",
    "train_ds = train_labeled_ds.cache().shuffle(buffer_size=1000).repeat().batch(25).prefetch(buffer_size=AUTOTUNE)\n",
    "#train_labeled_ds = train_labeled_ds.prefetch(buffer_size=AUTOTUNE)\n",
    "\n",
    "test_labeled_ds = test_list_ds.map(process_path, num_parallel_calls=AUTOTUNE)\n",
    "#test_labeled_ds = test_labeled_ds.cache()\n",
    "test_ds = test_labeled_ds.cache().batch(25).prefetch(buffer_size=AUTOTUNE)\n",
    "#test_labeled_ds = test_labeled_ds.prefetch(buffer_size=AUTOTUNE)\n",
    "\n",
    "val_labeled_ds = val_list_ds.map(process_path, num_parallel_calls=AUTOTUNE)\n",
    "val_ds = val_labeled_ds.cache().batch(25).prefetch(buffer_size=AUTOTUNE)"
   ]
  },
  {
   "cell_type": "code",
   "execution_count": 76,
   "metadata": {},
   "outputs": [
    {
     "name": "stdout",
     "output_type": "stream",
     "text": [
      "Image shape:  (100, 100, 3)\n",
      "Label:  True\n",
      "Image shape:  (100, 100, 3)\n",
      "Label:  True\n",
      "Image shape:  (100, 100, 3)\n",
      "Label:  False\n",
      "Image shape:  (100, 100, 3)\n",
      "Label:  False\n",
      "Image shape:  (100, 100, 3)\n",
      "Label:  False\n",
      "Image shape:  (100, 100, 3)\n",
      "Label:  True\n",
      "Image shape:  (100, 100, 3)\n",
      "Label:  True\n",
      "Image shape:  (100, 100, 3)\n",
      "Label:  False\n",
      "Image shape:  (100, 100, 3)\n",
      "Label:  True\n",
      "Image shape:  (100, 100, 3)\n",
      "Label:  True\n"
     ]
    }
   ],
   "source": [
    "for image, label in train_labeled_ds.take(10):\n",
    "  print(\"Image shape: \", image.numpy().shape)\n",
    "  print(\"Label: \", label.numpy())"
   ]
  },
  {
   "cell_type": "code",
   "execution_count": 92,
   "metadata": {},
   "outputs": [
    {
     "name": "stdout",
     "output_type": "stream",
     "text": [
      "Model: \"sequential_19\"\n",
      "_________________________________________________________________\n",
      "Layer (type)                 Output Shape              Param #   \n",
      "=================================================================\n",
      "flatten_19 (Flatten)         (None, 30000)             0         \n",
      "_________________________________________________________________\n",
      "dense_38 (Dense)             (None, 64)                1920064   \n",
      "_________________________________________________________________\n",
      "dense_39 (Dense)             (None, 1)                 65        \n",
      "=================================================================\n",
      "Total params: 1,920,129\n",
      "Trainable params: 1,920,129\n",
      "Non-trainable params: 0\n",
      "_________________________________________________________________\n",
      "None\n"
     ]
    }
   ],
   "source": [
    "print(model.summary())\n",
    "\n"
   ]
  },
  {
   "cell_type": "code",
   "execution_count": 91,
   "metadata": {},
   "outputs": [
    {
     "name": "stdout",
     "output_type": "stream",
     "text": [
      "Epoch 1/10\n",
      " 2/75 [..............................] - ETA: 18s - loss: 11.1313 - accuracy: 0.4800WARNING:tensorflow:Callbacks method `on_train_batch_end` is slow compared to the batch time (batch time: 0.0180s vs `on_train_batch_end` time: 0.4650s). Check your callbacks.\n",
      "75/75 [==============================] - 4s 47ms/step - loss: 1.6598 - accuracy: 0.5237 - val_loss: 0.6912 - val_accuracy: 0.5350\n",
      "Epoch 2/10\n",
      "75/75 [==============================] - 1s 19ms/step - loss: 0.6987 - accuracy: 0.5685 - val_loss: 0.6882 - val_accuracy: 0.6112\n",
      "Epoch 3/10\n",
      "75/75 [==============================] - 1s 20ms/step - loss: 0.7224 - accuracy: 0.5883 - val_loss: 0.6713 - val_accuracy: 0.6313\n",
      "Epoch 4/10\n",
      "75/75 [==============================] - 1s 19ms/step - loss: 0.7189 - accuracy: 0.5851 - val_loss: 0.9958 - val_accuracy: 0.5250\n",
      "Epoch 5/10\n",
      "75/75 [==============================] - 1s 19ms/step - loss: 0.7068 - accuracy: 0.6165 - val_loss: 0.8695 - val_accuracy: 0.5512\n",
      "Epoch 6/10\n",
      "75/75 [==============================] - 1s 19ms/step - loss: 0.6329 - accuracy: 0.6379 - val_loss: 0.6765 - val_accuracy: 0.6200\n",
      "Epoch 7/10\n",
      "75/75 [==============================] - 1s 19ms/step - loss: 0.6556 - accuracy: 0.6224 - val_loss: 0.6528 - val_accuracy: 0.6050\n",
      "Epoch 8/10\n",
      "75/75 [==============================] - 1s 20ms/step - loss: 0.6000 - accuracy: 0.6773 - val_loss: 0.7241 - val_accuracy: 0.6112\n",
      "Epoch 9/10\n",
      "75/75 [==============================] - 1s 20ms/step - loss: 0.5956 - accuracy: 0.6560 - val_loss: 0.7440 - val_accuracy: 0.5875\n",
      "Epoch 10/10\n",
      "75/75 [==============================] - 1s 19ms/step - loss: 0.5748 - accuracy: 0.6869 - val_loss: 0.7529 - val_accuracy: 0.5800\n",
      "Average test loss: 0.7565516650676727\n",
      "32/32 - 0s - loss: 0.7529 - accuracy: 0.5800\n",
      "32/32 - 1s - loss: 0.7518 - accuracy: 0.6087\n",
      "\n",
      "Test accuracy: 0.6087499856948853\n",
      "\n",
      "Validation accuracy: 0.5799999833106995\n"
     ]
    }
   ],
   "source": [
    "batch_size = 32\n",
    "img_height = 100\n",
    "img_width = 100\n",
    "steps_per_epoch = np.ceil(train_image_count/batch_size)\n",
    "input_shape = (100, 100, 3)\n",
    "num_outputs = 1\n",
    "num_epochs = 10\n",
    "\n",
    "\n",
    "import tensorflow as tf\n",
    "from tensorflow import keras\n",
    "\n",
    "model = keras.Sequential([\n",
    "        keras.layers.Flatten(input_shape=input_shape),\n",
    "        keras.layers.Dense(64, activation='relu'),\n",
    "        keras.layers.Dense(1)\n",
    "    ])\n",
    "\n",
    "model.compile(optimizer='adam',\n",
    "              loss=tf.keras.losses.BinaryCrossentropy(from_logits=True),\n",
    "              metrics=['accuracy'])\n",
    "\n",
    "tensorboard_callback = keras.callbacks.TensorBoard()\n",
    "\n",
    "training_history = model.fit(\n",
    "    train_ds, \n",
    "    validation_data=val_ds, \n",
    "    epochs=10,\n",
    "    steps_per_epoch=steps_per_epoch,\n",
    "    callbacks=[tensorboard_callback])\n",
    "\n",
    "print(f\"Average test loss: {np.average(training_history.history['loss'])}\")\n",
    "val_loss, val_acc = model.evaluate(val_ds, verbose=2)\n",
    "test_loss, test_acc = model.evaluate(test_ds, verbose=2)\n",
    "\n",
    "print(f\"\\nTest accuracy: {test_acc}\")\n",
    "print(f\"\\nValidation accuracy: {val_acc}\")\n"
   ]
  },
  {
   "cell_type": "code",
   "execution_count": 81,
   "metadata": {},
   "outputs": [],
   "source": [
    "# Classifiers\n",
    "from sklearn.discriminant_analysis import QuadraticDiscriminantAnalysis\n",
    "from sklearn.ensemble import RandomForestClassifier\n",
    "from sklearn.naive_bayes import GaussianNB\n",
    "from sklearn.neighbors import KNeighborsClassifier\n",
    "from sklearn.svm import SVC\n",
    "from sklearn.tree import DecisionTreeClassifier\n",
    "# Metrics\n",
    "from sklearn.metrics import precision_recall_fscore_support"
   ]
  },
  {
   "cell_type": "code",
   "execution_count": null,
   "metadata": {
    "scrolled": false
   },
   "outputs": [
    {
     "data": {
      "text/plain": [
       "Launching TensorBoard..."
      ]
     },
     "metadata": {},
     "output_type": "display_data"
    }
   ],
   "source": [
    "%load_ext tensorboard\n",
    "\n",
    "%tensorboard --logdir logs\n"
   ]
  },
  {
   "cell_type": "code",
   "execution_count": 96,
   "metadata": {},
   "outputs": [
    {
     "name": "stderr",
     "output_type": "stream",
     "text": [
      "'kill' is not recognized as an internal or external command,\n",
      "operable program or batch file.\n"
     ]
    }
   ],
   "source": [
    "!kill 164724"
   ]
  },
  {
   "cell_type": "code",
   "execution_count": null,
   "metadata": {},
   "outputs": [],
   "source": []
  }
 ],
 "metadata": {
  "kernelspec": {
   "display_name": "Python [conda env:.conda-tf-gpu] *",
   "language": "python",
   "name": "conda-env-.conda-tf-gpu-py"
  },
  "language_info": {
   "codemirror_mode": {
    "name": "ipython",
    "version": 3
   },
   "file_extension": ".py",
   "mimetype": "text/x-python",
   "name": "python",
   "nbconvert_exporter": "python",
   "pygments_lexer": "ipython3",
   "version": "3.8.6"
  }
 },
 "nbformat": 4,
 "nbformat_minor": 4
}
