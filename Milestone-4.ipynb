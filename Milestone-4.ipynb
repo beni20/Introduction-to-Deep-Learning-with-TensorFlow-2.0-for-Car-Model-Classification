{
 "cells": [
  {
   "cell_type": "code",
   "execution_count": 11,
   "metadata": {},
   "outputs": [
    {
     "name": "stdout",
     "output_type": "stream",
     "text": [
      "2.3.0\n"
     ]
    }
   ],
   "source": [
    "import numpy as np\n",
    "import matplotlib.pyplot as plt\n",
    "import os\n",
    "import pathlib\n",
    "\n",
    "import tensorflow as tf\n",
    "\n",
    "\n",
    "print(tf.__version__)\n",
    "\n",
    "train_data_dir = pathlib.Path(\"./data/train\")\n",
    "val_data_dir = pathlib.Path(\"./data/validation\")\n",
    "test_data_dir = pathlib.Path(\"./data/test\")\n"
   ]
  },
  {
   "cell_type": "code",
   "execution_count": 12,
   "metadata": {},
   "outputs": [],
   "source": [
    "train_image_count = len(list(train_data_dir.glob('*/*.jpg')))\n",
    "test_image_count = len(list(test_data_dir.glob('*/*.jpg')))\n",
    "val_image_count = len(list(val_data_dir.glob('*/*.jpg')))\n",
    "\n",
    "train_list_ds = tf.data.Dataset.list_files(str(train_data_dir/'*/*'))\n",
    "val_list_ds = tf.data.Dataset.list_files(str(val_data_dir/'*/*'))\n",
    "test_list_ds = tf.data.Dataset.list_files(str(test_data_dir/'*/*'))"
   ]
  },
  {
   "cell_type": "code",
   "execution_count": 13,
   "metadata": {},
   "outputs": [
    {
     "name": "stdout",
     "output_type": "stream",
     "text": [
      "Class names: ['swift' 'wagonr']\n"
     ]
    }
   ],
   "source": [
    "class_names = np.array([item.name for item in train_data_dir.glob('*')])\n",
    "print(f\"Class names: {class_names}\")\n",
    "\n",
    "#data augmentation function\n",
    "IMG_WIDTH=100\n",
    "IMG_HEIGHT=100\n",
    "\n",
    "def decode_img(img):\n",
    "  img = tf.image.decode_jpeg(img, channels=3)\n",
    "  img = tf.image.convert_image_dtype(img, tf.float32)\n",
    "  return tf.image.resize(img, [IMG_WIDTH, IMG_HEIGHT])\n",
    "\n",
    "def get_label(path):\n",
    "  parts = tf.strings.split(path, os.path.sep)\n",
    "  return parts[-2] == class_names[0]\n",
    "\n",
    "def process_path(file_path):\n",
    "  img = tf.io.read_file(file_path)\n",
    "  img = decode_img(img)\n",
    "  label = get_label(file_path)\n",
    "  return img, label"
   ]
  },
  {
   "cell_type": "code",
   "execution_count": 14,
   "metadata": {},
   "outputs": [
    {
     "name": "stdout",
     "output_type": "stream",
     "text": [
      "WARNING:tensorflow:AutoGraph could not transform <function get_label at 0x0000023245FD28B0> and will run it as-is.\n",
      "Please report this to the TensorFlow team. When filing the bug, set the verbosity to 10 (on Linux, `export AUTOGRAPH_VERBOSITY=10`) and attach the full output.\n",
      "Cause: module 'gast' has no attribute 'Index'\n",
      "To silence this warning, decorate the function with @tf.autograph.experimental.do_not_convert\n",
      "WARNING: AutoGraph could not transform <function get_label at 0x0000023245FD28B0> and will run it as-is.\n",
      "Please report this to the TensorFlow team. When filing the bug, set the verbosity to 10 (on Linux, `export AUTOGRAPH_VERBOSITY=10`) and attach the full output.\n",
      "Cause: module 'gast' has no attribute 'Index'\n",
      "To silence this warning, decorate the function with @tf.autograph.experimental.do_not_convert\n"
     ]
    }
   ],
   "source": [
    "AUTOTUNE = tf.data.experimental.AUTOTUNE\n",
    "\n",
    "train_labeled_ds = train_list_ds.map(process_path, num_parallel_calls=AUTOTUNE)\n",
    "#train_labeled_ds = train_labeled_ds.cache().shuffle()\n",
    "#train_labeled_ds = train_labeled_ds.repeat()\n",
    "train_ds = train_labeled_ds.cache().shuffle(buffer_size=1000).repeat().batch(25).prefetch(buffer_size=AUTOTUNE)\n",
    "#train_labeled_ds = train_labeled_ds.prefetch(buffer_size=AUTOTUNE)\n",
    "\n",
    "test_labeled_ds = test_list_ds.map(process_path, num_parallel_calls=AUTOTUNE)\n",
    "#test_labeled_ds = test_labeled_ds.cache()\n",
    "test_ds = test_labeled_ds.cache().batch(25).prefetch(buffer_size=AUTOTUNE)\n",
    "#test_labeled_ds = test_labeled_ds.prefetch(buffer_size=AUTOTUNE)\n",
    "\n",
    "val_labeled_ds = val_list_ds.map(process_path, num_parallel_calls=AUTOTUNE)\n",
    "val_ds = val_labeled_ds.cache().batch(25).prefetch(buffer_size=AUTOTUNE)"
   ]
  },
  {
   "cell_type": "code",
   "execution_count": 15,
   "metadata": {},
   "outputs": [
    {
     "name": "stdout",
     "output_type": "stream",
     "text": [
      "Image shape:  (100, 100, 3)\n",
      "Label:  True\n",
      "Image shape:  (100, 100, 3)\n",
      "Label:  True\n",
      "Image shape:  (100, 100, 3)\n",
      "Label:  True\n",
      "Image shape:  (100, 100, 3)\n",
      "Label:  False\n",
      "Image shape:  (100, 100, 3)\n",
      "Label:  True\n",
      "Image shape:  (100, 100, 3)\n",
      "Label:  False\n",
      "Image shape:  (100, 100, 3)\n",
      "Label:  False\n",
      "Image shape:  (100, 100, 3)\n",
      "Label:  True\n",
      "Image shape:  (100, 100, 3)\n",
      "Label:  True\n",
      "Image shape:  (100, 100, 3)\n",
      "Label:  False\n"
     ]
    }
   ],
   "source": [
    "for image, label in train_labeled_ds.take(10):\n",
    "  print(\"Image shape: \", image.numpy().shape)\n",
    "  print(\"Label: \", label.numpy())"
   ]
  },
  {
   "cell_type": "code",
   "execution_count": 16,
   "metadata": {},
   "outputs": [
    {
     "ename": "NameError",
     "evalue": "name 'model' is not defined",
     "output_type": "error",
     "traceback": [
      "\u001b[1;31m---------------------------------------------------------------------------\u001b[0m",
      "\u001b[1;31mNameError\u001b[0m                                 Traceback (most recent call last)",
      "\u001b[1;32m<ipython-input-16-e613b091ce77>\u001b[0m in \u001b[0;36m<module>\u001b[1;34m\u001b[0m\n\u001b[1;32m----> 1\u001b[1;33m \u001b[0mprint\u001b[0m\u001b[1;33m(\u001b[0m\u001b[0mmodel\u001b[0m\u001b[1;33m.\u001b[0m\u001b[0msummary\u001b[0m\u001b[1;33m(\u001b[0m\u001b[1;33m)\u001b[0m\u001b[1;33m)\u001b[0m\u001b[1;33m\u001b[0m\u001b[1;33m\u001b[0m\u001b[0m\n\u001b[0m\u001b[0;32m      2\u001b[0m \u001b[1;33m\u001b[0m\u001b[0m\n",
      "\u001b[1;31mNameError\u001b[0m: name 'model' is not defined"
     ]
    }
   ],
   "source": [
    "print(model.summary())\n",
    "\n"
   ]
  },
  {
   "cell_type": "code",
   "execution_count": 17,
   "metadata": {},
   "outputs": [
    {
     "name": "stdout",
     "output_type": "stream",
     "text": [
      "Epoch 1/10\n",
      " 1/75 [..............................] - ETA: 0s - loss: 0.6704 - accuracy: 0.6800WARNING:tensorflow:From C:\\Users\\luke\\.conda\\envs\\tf-gpu\\lib\\site-packages\\tensorflow\\python\\ops\\summary_ops_v2.py:1277: stop (from tensorflow.python.eager.profiler) is deprecated and will be removed after 2020-07-01.\n",
      "Instructions for updating:\n",
      "use `tf.profiler.experimental.stop` instead.\n",
      " 2/75 [..............................] - ETA: 3s - loss: 6.9140 - accuracy: 0.6000WARNING:tensorflow:Callbacks method `on_train_batch_end` is slow compared to the batch time (batch time: 0.0160s vs `on_train_batch_end` time: 0.0700s). Check your callbacks.\n",
      "75/75 [==============================] - ETA: 2s - loss: 5.2798 - accuracy: 0.50 - ETA: 2s - loss: 4.4973 - accuracy: 0.50 - ETA: 2s - loss: 4.0907 - accuracy: 0.51 - ETA: 2s - loss: 4.1637 - accuracy: 0.52 - ETA: 2s - loss: 3.8509 - accuracy: 0.52 - ETA: 2s - loss: 3.6071 - accuracy: 0.52 - ETA: 2s - loss: 3.3721 - accuracy: 0.53 - ETA: 2s - loss: 3.0947 - accuracy: 0.54 - ETA: 1s - loss: 3.0102 - accuracy: 0.54 - ETA: 1s - loss: 2.9058 - accuracy: 0.54 - ETA: 1s - loss: 2.8427 - accuracy: 0.54 - ETA: 1s - loss: 2.7647 - accuracy: 0.54 - ETA: 1s - loss: 2.6685 - accuracy: 0.54 - ETA: 1s - loss: 2.5849 - accuracy: 0.54 - ETA: 1s - loss: 2.5160 - accuracy: 0.54 - ETA: 1s - loss: 2.4766 - accuracy: 0.52 - ETA: 1s - loss: 2.4414 - accuracy: 0.52 - ETA: 1s - loss: 2.3852 - accuracy: 0.52 - ETA: 1s - loss: 2.3202 - accuracy: 0.53 - ETA: 1s - loss: 2.2812 - accuracy: 0.52 - ETA: 1s - loss: 2.2331 - accuracy: 0.53 - ETA: 1s - loss: 2.1904 - accuracy: 0.53 - ETA: 1s - loss: 2.1630 - accuracy: 0.53 - ETA: 0s - loss: 2.1110 - accuracy: 0.53 - ETA: 0s - loss: 2.0710 - accuracy: 0.53 - ETA: 0s - loss: 2.0231 - accuracy: 0.53 - ETA: 0s - loss: 1.9876 - accuracy: 0.53 - ETA: 0s - loss: 1.9308 - accuracy: 0.53 - ETA: 0s - loss: 1.8536 - accuracy: 0.54 - ETA: 0s - loss: 1.7892 - accuracy: 0.54 - ETA: 0s - loss: 1.7313 - accuracy: 0.54 - ETA: 0s - loss: 1.7000 - accuracy: 0.54 - 3s 46ms/step - loss: 1.6884 - accuracy: 0.5413 - val_loss: 1.6106 - val_accuracy: 0.5000\n",
      "Epoch 2/10\n",
      "75/75 [==============================] - ETA: 0s - loss: 1.9116 - accuracy: 0.32 - ETA: 0s - loss: 1.1332 - accuracy: 0.52 - ETA: 0s - loss: 1.0677 - accuracy: 0.55 - ETA: 0s - loss: 1.1741 - accuracy: 0.56 - ETA: 0s - loss: 1.2599 - accuracy: 0.54 - ETA: 0s - loss: 1.4657 - accuracy: 0.54 - ETA: 0s - loss: 1.4970 - accuracy: 0.53 - ETA: 0s - loss: 1.4490 - accuracy: 0.55 - ETA: 0s - loss: 1.3933 - accuracy: 0.55 - ETA: 0s - loss: 1.3918 - accuracy: 0.55 - ETA: 0s - loss: 1.3453 - accuracy: 0.56 - ETA: 0s - loss: 1.3036 - accuracy: 0.56 - ETA: 0s - loss: 1.2815 - accuracy: 0.56 - ETA: 0s - loss: 1.2711 - accuracy: 0.56 - ETA: 0s - loss: 1.2471 - accuracy: 0.56 - ETA: 0s - loss: 1.2367 - accuracy: 0.56 - ETA: 0s - loss: 1.2263 - accuracy: 0.56 - ETA: 0s - loss: 1.2169 - accuracy: 0.56 - ETA: 0s - loss: 1.2187 - accuracy: 0.56 - 1s 15ms/step - loss: 1.2128 - accuracy: 0.5643 - val_loss: 1.0426 - val_accuracy: 0.5362\n",
      "Epoch 3/10\n",
      "75/75 [==============================] - ETA: 0s - loss: 0.9409 - accuracy: 0.56 - ETA: 0s - loss: 1.1986 - accuracy: 0.52 - ETA: 0s - loss: 1.0588 - accuracy: 0.53 - ETA: 0s - loss: 0.9862 - accuracy: 0.56 - ETA: 0s - loss: 0.9561 - accuracy: 0.57 - ETA: 0s - loss: 0.9248 - accuracy: 0.58 - ETA: 0s - loss: 0.9265 - accuracy: 0.58 - ETA: 0s - loss: 0.8947 - accuracy: 0.58 - ETA: 0s - loss: 0.8759 - accuracy: 0.58 - ETA: 0s - loss: 0.8974 - accuracy: 0.58 - ETA: 0s - loss: 0.9170 - accuracy: 0.58 - ETA: 0s - loss: 0.9217 - accuracy: 0.58 - ETA: 0s - loss: 0.9174 - accuracy: 0.58 - ETA: 0s - loss: 0.9261 - accuracy: 0.58 - ETA: 0s - loss: 0.9437 - accuracy: 0.58 - ETA: 0s - loss: 0.9808 - accuracy: 0.58 - ETA: 0s - loss: 0.9905 - accuracy: 0.57 - ETA: 0s - loss: 0.9922 - accuracy: 0.57 - ETA: 0s - loss: 0.9932 - accuracy: 0.58 - 1s 15ms/step - loss: 0.9932 - accuracy: 0.5803 - val_loss: 1.1794 - val_accuracy: 0.5325\n",
      "Epoch 4/10\n",
      "75/75 [==============================] - ETA: 0s - loss: 1.0458 - accuracy: 0.52 - ETA: 0s - loss: 0.7771 - accuracy: 0.60 - ETA: 0s - loss: 0.7830 - accuracy: 0.61 - ETA: 0s - loss: 0.7239 - accuracy: 0.63 - ETA: 0s - loss: 0.7343 - accuracy: 0.63 - ETA: 0s - loss: 0.7107 - accuracy: 0.64 - ETA: 0s - loss: 0.7040 - accuracy: 0.64 - ETA: 0s - loss: 0.7166 - accuracy: 0.63 - ETA: 0s - loss: 0.7253 - accuracy: 0.63 - ETA: 0s - loss: 0.7283 - accuracy: 0.62 - ETA: 0s - loss: 0.7149 - accuracy: 0.63 - ETA: 0s - loss: 0.7356 - accuracy: 0.62 - ETA: 0s - loss: 0.7720 - accuracy: 0.62 - ETA: 0s - loss: 0.8051 - accuracy: 0.61 - ETA: 0s - loss: 0.8261 - accuracy: 0.60 - ETA: 0s - loss: 0.8229 - accuracy: 0.60 - ETA: 0s - loss: 0.8103 - accuracy: 0.61 - ETA: 0s - loss: 0.7980 - accuracy: 0.61 - 1s 14ms/step - loss: 0.7935 - accuracy: 0.6219 - val_loss: 0.7557 - val_accuracy: 0.6300\n",
      "Epoch 5/10\n",
      "75/75 [==============================] - ETA: 0s - loss: 0.6850 - accuracy: 0.72 - ETA: 0s - loss: 0.7154 - accuracy: 0.64 - ETA: 0s - loss: 0.8346 - accuracy: 0.61 - ETA: 0s - loss: 0.8552 - accuracy: 0.60 - ETA: 0s - loss: 0.8532 - accuracy: 0.60 - ETA: 0s - loss: 0.8654 - accuracy: 0.60 - ETA: 0s - loss: 0.8410 - accuracy: 0.60 - ETA: 0s - loss: 0.8049 - accuracy: 0.61 - ETA: 0s - loss: 0.7915 - accuracy: 0.62 - ETA: 0s - loss: 0.8363 - accuracy: 0.61 - ETA: 0s - loss: 0.8745 - accuracy: 0.60 - ETA: 0s - loss: 0.9361 - accuracy: 0.59 - ETA: 0s - loss: 0.9717 - accuracy: 0.58 - ETA: 0s - loss: 1.0257 - accuracy: 0.58 - ETA: 0s - loss: 1.0179 - accuracy: 0.58 - ETA: 0s - loss: 1.0203 - accuracy: 0.58 - ETA: 0s - loss: 1.0019 - accuracy: 0.58 - ETA: 0s - loss: 0.9825 - accuracy: 0.59 - ETA: 0s - loss: 0.9642 - accuracy: 0.59 - 1s 15ms/step - loss: 0.9642 - accuracy: 0.5947 - val_loss: 1.2621 - val_accuracy: 0.5475\n",
      "Epoch 6/10\n",
      "75/75 [==============================] - ETA: 0s - loss: 0.8260 - accuracy: 0.72 - ETA: 0s - loss: 0.7331 - accuracy: 0.68 - ETA: 0s - loss: 0.8160 - accuracy: 0.63 - ETA: 0s - loss: 0.8088 - accuracy: 0.61 - ETA: 0s - loss: 0.7491 - accuracy: 0.64 - ETA: 0s - loss: 0.7625 - accuracy: 0.64 - ETA: 0s - loss: 0.7313 - accuracy: 0.64 - ETA: 0s - loss: 0.7116 - accuracy: 0.66 - ETA: 0s - loss: 0.6892 - accuracy: 0.67 - ETA: 0s - loss: 0.6848 - accuracy: 0.67 - ETA: 0s - loss: 0.6794 - accuracy: 0.67 - ETA: 0s - loss: 0.6673 - accuracy: 0.67 - ETA: 0s - loss: 0.6569 - accuracy: 0.68 - ETA: 0s - loss: 0.6510 - accuracy: 0.68 - ETA: 0s - loss: 0.6420 - accuracy: 0.68 - ETA: 0s - loss: 0.6438 - accuracy: 0.68 - ETA: 0s - loss: 0.6657 - accuracy: 0.67 - ETA: 0s - loss: 0.7403 - accuracy: 0.66 - ETA: 0s - loss: 0.7390 - accuracy: 0.66 - 1s 16ms/step - loss: 0.7387 - accuracy: 0.6661 - val_loss: 0.8256 - val_accuracy: 0.6137\n",
      "Epoch 7/10\n",
      "75/75 [==============================] - ETA: 0s - loss: 0.8090 - accuracy: 0.64 - ETA: 0s - loss: 0.6160 - accuracy: 0.70 - ETA: 0s - loss: 0.6245 - accuracy: 0.66 - ETA: 0s - loss: 0.6268 - accuracy: 0.68 - ETA: 0s - loss: 0.6059 - accuracy: 0.68 - ETA: 0s - loss: 0.6640 - accuracy: 0.65 - ETA: 0s - loss: 0.6748 - accuracy: 0.65 - ETA: 0s - loss: 0.6447 - accuracy: 0.66 - ETA: 0s - loss: 0.6301 - accuracy: 0.66 - ETA: 0s - loss: 0.6329 - accuracy: 0.66 - ETA: 0s - loss: 0.6285 - accuracy: 0.67 - ETA: 0s - loss: 0.6194 - accuracy: 0.67 - ETA: 0s - loss: 0.6280 - accuracy: 0.67 - ETA: 0s - loss: 0.6679 - accuracy: 0.65 - ETA: 0s - loss: 0.6622 - accuracy: 0.66 - ETA: 0s - loss: 0.6741 - accuracy: 0.65 - ETA: 0s - loss: 0.6719 - accuracy: 0.65 - ETA: 0s - loss: 0.6728 - accuracy: 0.65 - 1s 15ms/step - loss: 0.6728 - accuracy: 0.6581 - val_loss: 0.8033 - val_accuracy: 0.5688\n",
      "Epoch 8/10\n"
     ]
    },
    {
     "name": "stdout",
     "output_type": "stream",
     "text": [
      "75/75 [==============================] - ETA: 0s - loss: 0.7219 - accuracy: 0.68 - ETA: 0s - loss: 0.7139 - accuracy: 0.62 - ETA: 0s - loss: 0.7607 - accuracy: 0.60 - ETA: 0s - loss: 0.8192 - accuracy: 0.61 - ETA: 0s - loss: 0.8062 - accuracy: 0.62 - ETA: 0s - loss: 0.7711 - accuracy: 0.64 - ETA: 0s - loss: 0.7600 - accuracy: 0.64 - ETA: 0s - loss: 0.7315 - accuracy: 0.66 - ETA: 0s - loss: 0.6965 - accuracy: 0.67 - ETA: 0s - loss: 0.6740 - accuracy: 0.68 - ETA: 0s - loss: 0.6804 - accuracy: 0.68 - ETA: 0s - loss: 0.6888 - accuracy: 0.67 - ETA: 0s - loss: 0.6981 - accuracy: 0.67 - ETA: 0s - loss: 0.7381 - accuracy: 0.66 - ETA: 0s - loss: 0.7174 - accuracy: 0.66 - ETA: 0s - loss: 0.7022 - accuracy: 0.67 - ETA: 0s - loss: 0.6923 - accuracy: 0.67 - ETA: 0s - loss: 0.6834 - accuracy: 0.68 - ETA: 0s - loss: 0.6822 - accuracy: 0.67 - 1s 15ms/step - loss: 0.6787 - accuracy: 0.6805 - val_loss: 0.7178 - val_accuracy: 0.6175\n",
      "Epoch 9/10\n",
      "75/75 [==============================] - ETA: 0s - loss: 0.3815 - accuracy: 0.84 - ETA: 0s - loss: 0.5012 - accuracy: 0.74 - ETA: 0s - loss: 0.4562 - accuracy: 0.78 - ETA: 0s - loss: 0.5270 - accuracy: 0.73 - ETA: 0s - loss: 0.5506 - accuracy: 0.71 - ETA: 0s - loss: 0.5494 - accuracy: 0.71 - ETA: 0s - loss: 0.5500 - accuracy: 0.71 - ETA: 0s - loss: 0.5658 - accuracy: 0.71 - ETA: 0s - loss: 0.5755 - accuracy: 0.69 - ETA: 0s - loss: 0.5814 - accuracy: 0.69 - ETA: 0s - loss: 0.6219 - accuracy: 0.67 - ETA: 0s - loss: 0.6345 - accuracy: 0.67 - ETA: 0s - loss: 0.6688 - accuracy: 0.66 - ETA: 0s - loss: 0.6778 - accuracy: 0.66 - ETA: 0s - loss: 0.6765 - accuracy: 0.66 - ETA: 0s - loss: 0.6716 - accuracy: 0.66 - ETA: 0s - loss: 0.6678 - accuracy: 0.67 - ETA: 0s - loss: 0.6635 - accuracy: 0.67 - ETA: 0s - loss: 0.6647 - accuracy: 0.67 - 1s 15ms/step - loss: 0.6602 - accuracy: 0.6731 - val_loss: 0.7198 - val_accuracy: 0.6200\n",
      "Epoch 10/10\n",
      "75/75 [==============================] - ETA: 0s - loss: 0.3829 - accuracy: 0.88 - ETA: 0s - loss: 0.5194 - accuracy: 0.79 - ETA: 0s - loss: 0.5422 - accuracy: 0.74 - ETA: 0s - loss: 0.5444 - accuracy: 0.74 - ETA: 0s - loss: 0.5742 - accuracy: 0.72 - ETA: 0s - loss: 0.6016 - accuracy: 0.70 - ETA: 0s - loss: 0.6144 - accuracy: 0.71 - ETA: 0s - loss: 0.6082 - accuracy: 0.71 - ETA: 0s - loss: 0.5991 - accuracy: 0.71 - ETA: 0s - loss: 0.5931 - accuracy: 0.71 - ETA: 0s - loss: 0.6060 - accuracy: 0.70 - ETA: 0s - loss: 0.6043 - accuracy: 0.70 - ETA: 0s - loss: 0.5988 - accuracy: 0.70 - ETA: 0s - loss: 0.5974 - accuracy: 0.70 - ETA: 0s - loss: 0.5881 - accuracy: 0.70 - ETA: 0s - loss: 0.5948 - accuracy: 0.70 - ETA: 0s - loss: 0.5940 - accuracy: 0.70 - ETA: 0s - loss: 0.5964 - accuracy: 0.70 - ETA: 0s - loss: 0.5973 - accuracy: 0.70 - 1s 15ms/step - loss: 0.5953 - accuracy: 0.7035 - val_loss: 0.7560 - val_accuracy: 0.6050\n",
      "Average test loss: 0.8997896790504456\n",
      "32/32 - 0s - loss: 0.7560 - accuracy: 0.6050\n",
      "32/32 - 1s - loss: 0.7383 - accuracy: 0.6200\n",
      "\n",
      "Test accuracy: 0.6200000047683716\n",
      "\n",
      "Validation accuracy: 0.6050000190734863\n"
     ]
    }
   ],
   "source": [
    "batch_size = 32\n",
    "img_height = 100\n",
    "img_width = 100\n",
    "steps_per_epoch = np.ceil(train_image_count/batch_size)\n",
    "input_shape = (100, 100, 3)\n",
    "num_outputs = 1\n",
    "num_epochs = 10\n",
    "\n",
    "\n",
    "import tensorflow as tf\n",
    "from tensorflow import keras\n",
    "\n",
    "model = keras.Sequential([\n",
    "        keras.layers.Flatten(input_shape=input_shape),\n",
    "        keras.layers.Dense(64, activation='relu'),\n",
    "        keras.layers.Dense(1)\n",
    "    ])\n",
    "\n",
    "model.compile(optimizer='adam',\n",
    "              loss=tf.keras.losses.BinaryCrossentropy(from_logits=True),\n",
    "              metrics=['accuracy'])\n",
    "\n",
    "tensorboard_callback = keras.callbacks.TensorBoard()\n",
    "\n",
    "training_history = model.fit(\n",
    "    train_ds, \n",
    "    validation_data=val_ds, \n",
    "    epochs=10,\n",
    "    steps_per_epoch=steps_per_epoch,\n",
    "    callbacks=[tensorboard_callback])\n",
    "\n",
    "print(f\"Average test loss: {np.average(training_history.history['loss'])}\")\n",
    "val_loss, val_acc = model.evaluate(val_ds, verbose=2)\n",
    "test_loss, test_acc = model.evaluate(test_ds, verbose=2)\n",
    "\n",
    "print(f\"\\nTest accuracy: {test_acc}\")\n",
    "print(f\"\\nValidation accuracy: {val_acc}\")\n"
   ]
  },
  {
   "cell_type": "code",
   "execution_count": 81,
   "metadata": {},
   "outputs": [],
   "source": [
    "# Classifiers\n",
    "from sklearn.discriminant_analysis import QuadraticDiscriminantAnalysis\n",
    "from sklearn.ensemble import RandomForestClassifier\n",
    "from sklearn.naive_bayes import GaussianNB\n",
    "from sklearn.neighbors import KNeighborsClassifier\n",
    "from sklearn.svm import SVC\n",
    "from sklearn.tree import DecisionTreeClassifier\n",
    "# Metrics\n",
    "from sklearn.metrics import precision_recall_fscore_support"
   ]
  },
  {
   "cell_type": "code",
   "execution_count": 98,
   "metadata": {
    "scrolled": false
   },
   "outputs": [
    {
     "name": "stdout",
     "output_type": "stream",
     "text": [
      "The tensorboard extension is already loaded. To reload it, use:\n",
      "  %reload_ext tensorboard\n"
     ]
    },
    {
     "data": {
      "text/plain": [
       "Reusing TensorBoard on port 6006 (pid 166540), started 0:00:53 ago. (Use '!kill 166540' to kill it.)"
      ]
     },
     "metadata": {},
     "output_type": "display_data"
    },
    {
     "data": {
      "text/html": [
       "\n",
       "      <iframe id=\"tensorboard-frame-7074d4202055a2eb\" width=\"100%\" height=\"800\" frameborder=\"0\">\n",
       "      </iframe>\n",
       "      <script>\n",
       "        (function() {\n",
       "          const frame = document.getElementById(\"tensorboard-frame-7074d4202055a2eb\");\n",
       "          const url = new URL(\"/\", window.location);\n",
       "          const port = 6006;\n",
       "          if (port) {\n",
       "            url.port = port;\n",
       "          }\n",
       "          frame.src = url;\n",
       "        })();\n",
       "      </script>\n",
       "    "
      ],
      "text/plain": [
       "<IPython.core.display.HTML object>"
      ]
     },
     "metadata": {},
     "output_type": "display_data"
    }
   ],
   "source": [
    "%load_ext tensorboard\n",
    "\n",
    "%tensorboard --logdir logs\n"
   ]
  },
  {
   "cell_type": "code",
   "execution_count": 96,
   "metadata": {},
   "outputs": [
    {
     "name": "stderr",
     "output_type": "stream",
     "text": [
      "'kill' is not recognized as an internal or external command,\n",
      "operable program or batch file.\n"
     ]
    }
   ],
   "source": [
    "!kill 164724"
   ]
  },
  {
   "cell_type": "code",
   "execution_count": 18,
   "metadata": {},
   "outputs": [],
   "source": [
    "from kerastuner.tuners import RandomSearch\n",
    "import tensorflow as tf\n",
    "from tensorflow import keras\n",
    "\n",
    "input_shape = (100, 100, 3)\n",
    "num_outputs = 1\n",
    "num_epochs = 10"
   ]
  },
  {
   "cell_type": "code",
   "execution_count": 25,
   "metadata": {},
   "outputs": [],
   "source": [
    "from tensorflow import keras\n",
    "from tensorflow.keras import layers\n",
    "from kerastuner.tuners import RandomSearch\n",
    "\n",
    "\n",
    "def build_model(hp):\n",
    "    model = keras.Sequential([\n",
    "        keras.layers.Flatten(input_shape=input_shape),\n",
    "        keras.layers.Dense(units=hp.Int('l1_units',\n",
    "                                        min_value=32,\n",
    "                                        max_value=512,\n",
    "                                        step=32), activation='relu'),\n",
    "        keras.layers.Dense(units=hp.Int('l2_units',\n",
    "                                        min_value=32,\n",
    "                                        max_value=512,\n",
    "                                        step=32), activation='relu'),\n",
    "        keras.layers.Dense(units=hp.Int('l3_units',\n",
    "                                        min_value=32,\n",
    "                                        max_value=512,\n",
    "                                        step=32), activation='relu'),\n",
    "        keras.layers.Dense(num_outputs)\n",
    "    ])\n",
    "    \n",
    "    model.compile(\n",
    "        optimizer='adam',\n",
    "        loss=tf.keras.losses.BinaryCrossentropy(from_logits=True),\n",
    "        metrics=['accuracy'])\n",
    "    return model"
   ]
  },
  {
   "cell_type": "code",
   "execution_count": 26,
   "metadata": {},
   "outputs": [
    {
     "name": "stdout",
     "output_type": "stream",
     "text": [
      "INFO:tensorflow:Reloading Oracle from existing project my_dir\\helloworld\\oracle.json\n"
     ]
    }
   ],
   "source": [
    "tuner = RandomSearch(\n",
    "    build_model,\n",
    "    objective='val_accuracy',\n",
    "    max_trials=5,\n",
    "    executions_per_trial=3,\n",
    "    directory='my_dir',\n",
    "    project_name='helloworld')"
   ]
  },
  {
   "cell_type": "code",
   "execution_count": 27,
   "metadata": {},
   "outputs": [
    {
     "data": {
      "text/html": [
       "<span style=\"color:#4527A0\"><h1 style=\"font-size:18px\">Search space summary</h1></span>"
      ],
      "text/plain": [
       "<IPython.core.display.HTML object>"
      ]
     },
     "metadata": {},
     "output_type": "display_data"
    },
    {
     "data": {
      "text/html": [
       "<span style=\"color:cyan\"> |-Default search space size: 5</span>"
      ],
      "text/plain": [
       "<IPython.core.display.HTML object>"
      ]
     },
     "metadata": {},
     "output_type": "display_data"
    },
    {
     "data": {
      "text/html": [
       "<span style=\"color:#7E57C2\"><h2 style=\"font-size:16px\">units (Int)</h2></span>"
      ],
      "text/plain": [
       "<IPython.core.display.HTML object>"
      ]
     },
     "metadata": {},
     "output_type": "display_data"
    },
    {
     "data": {
      "text/html": [
       "<span style=\"color:cyan\"> |-default: None</span>"
      ],
      "text/plain": [
       "<IPython.core.display.HTML object>"
      ]
     },
     "metadata": {},
     "output_type": "display_data"
    },
    {
     "data": {
      "text/html": [
       "<span style=\"color:blue\"> |-max_value: 512</span>"
      ],
      "text/plain": [
       "<IPython.core.display.HTML object>"
      ]
     },
     "metadata": {},
     "output_type": "display_data"
    },
    {
     "data": {
      "text/html": [
       "<span style=\"color:cyan\"> |-min_value: 32</span>"
      ],
      "text/plain": [
       "<IPython.core.display.HTML object>"
      ]
     },
     "metadata": {},
     "output_type": "display_data"
    },
    {
     "data": {
      "text/html": [
       "<span style=\"color:blue\"> |-sampling: None</span>"
      ],
      "text/plain": [
       "<IPython.core.display.HTML object>"
      ]
     },
     "metadata": {},
     "output_type": "display_data"
    },
    {
     "data": {
      "text/html": [
       "<span style=\"color:cyan\"> |-step: 32</span>"
      ],
      "text/plain": [
       "<IPython.core.display.HTML object>"
      ]
     },
     "metadata": {},
     "output_type": "display_data"
    },
    {
     "data": {
      "text/html": [
       "<span style=\"color:#7E57C2\"><h2 style=\"font-size:16px\">learning_rate (Choice)</h2></span>"
      ],
      "text/plain": [
       "<IPython.core.display.HTML object>"
      ]
     },
     "metadata": {},
     "output_type": "display_data"
    },
    {
     "data": {
      "text/html": [
       "<span style=\"color:cyan\"> |-default: 0.01</span>"
      ],
      "text/plain": [
       "<IPython.core.display.HTML object>"
      ]
     },
     "metadata": {},
     "output_type": "display_data"
    },
    {
     "data": {
      "text/html": [
       "<span style=\"color:blue\"> |-ordered: True</span>"
      ],
      "text/plain": [
       "<IPython.core.display.HTML object>"
      ]
     },
     "metadata": {},
     "output_type": "display_data"
    },
    {
     "data": {
      "text/html": [
       "<span style=\"color:cyan\"> |-values: [0.01, 0.001, 0.0001]</span>"
      ],
      "text/plain": [
       "<IPython.core.display.HTML object>"
      ]
     },
     "metadata": {},
     "output_type": "display_data"
    },
    {
     "data": {
      "text/html": [
       "<span style=\"color:#7E57C2\"><h2 style=\"font-size:16px\">l1_units (Int)</h2></span>"
      ],
      "text/plain": [
       "<IPython.core.display.HTML object>"
      ]
     },
     "metadata": {},
     "output_type": "display_data"
    },
    {
     "data": {
      "text/html": [
       "<span style=\"color:cyan\"> |-default: None</span>"
      ],
      "text/plain": [
       "<IPython.core.display.HTML object>"
      ]
     },
     "metadata": {},
     "output_type": "display_data"
    },
    {
     "data": {
      "text/html": [
       "<span style=\"color:blue\"> |-max_value: 512</span>"
      ],
      "text/plain": [
       "<IPython.core.display.HTML object>"
      ]
     },
     "metadata": {},
     "output_type": "display_data"
    },
    {
     "data": {
      "text/html": [
       "<span style=\"color:cyan\"> |-min_value: 32</span>"
      ],
      "text/plain": [
       "<IPython.core.display.HTML object>"
      ]
     },
     "metadata": {},
     "output_type": "display_data"
    },
    {
     "data": {
      "text/html": [
       "<span style=\"color:blue\"> |-sampling: None</span>"
      ],
      "text/plain": [
       "<IPython.core.display.HTML object>"
      ]
     },
     "metadata": {},
     "output_type": "display_data"
    },
    {
     "data": {
      "text/html": [
       "<span style=\"color:cyan\"> |-step: 32</span>"
      ],
      "text/plain": [
       "<IPython.core.display.HTML object>"
      ]
     },
     "metadata": {},
     "output_type": "display_data"
    },
    {
     "data": {
      "text/html": [
       "<span style=\"color:#7E57C2\"><h2 style=\"font-size:16px\">l2_units (Int)</h2></span>"
      ],
      "text/plain": [
       "<IPython.core.display.HTML object>"
      ]
     },
     "metadata": {},
     "output_type": "display_data"
    },
    {
     "data": {
      "text/html": [
       "<span style=\"color:cyan\"> |-default: None</span>"
      ],
      "text/plain": [
       "<IPython.core.display.HTML object>"
      ]
     },
     "metadata": {},
     "output_type": "display_data"
    },
    {
     "data": {
      "text/html": [
       "<span style=\"color:blue\"> |-max_value: 512</span>"
      ],
      "text/plain": [
       "<IPython.core.display.HTML object>"
      ]
     },
     "metadata": {},
     "output_type": "display_data"
    },
    {
     "data": {
      "text/html": [
       "<span style=\"color:cyan\"> |-min_value: 32</span>"
      ],
      "text/plain": [
       "<IPython.core.display.HTML object>"
      ]
     },
     "metadata": {},
     "output_type": "display_data"
    },
    {
     "data": {
      "text/html": [
       "<span style=\"color:blue\"> |-sampling: None</span>"
      ],
      "text/plain": [
       "<IPython.core.display.HTML object>"
      ]
     },
     "metadata": {},
     "output_type": "display_data"
    },
    {
     "data": {
      "text/html": [
       "<span style=\"color:cyan\"> |-step: 32</span>"
      ],
      "text/plain": [
       "<IPython.core.display.HTML object>"
      ]
     },
     "metadata": {},
     "output_type": "display_data"
    },
    {
     "data": {
      "text/html": [
       "<span style=\"color:#7E57C2\"><h2 style=\"font-size:16px\">l3_units (Int)</h2></span>"
      ],
      "text/plain": [
       "<IPython.core.display.HTML object>"
      ]
     },
     "metadata": {},
     "output_type": "display_data"
    },
    {
     "data": {
      "text/html": [
       "<span style=\"color:cyan\"> |-default: None</span>"
      ],
      "text/plain": [
       "<IPython.core.display.HTML object>"
      ]
     },
     "metadata": {},
     "output_type": "display_data"
    },
    {
     "data": {
      "text/html": [
       "<span style=\"color:blue\"> |-max_value: 512</span>"
      ],
      "text/plain": [
       "<IPython.core.display.HTML object>"
      ]
     },
     "metadata": {},
     "output_type": "display_data"
    },
    {
     "data": {
      "text/html": [
       "<span style=\"color:cyan\"> |-min_value: 32</span>"
      ],
      "text/plain": [
       "<IPython.core.display.HTML object>"
      ]
     },
     "metadata": {},
     "output_type": "display_data"
    },
    {
     "data": {
      "text/html": [
       "<span style=\"color:blue\"> |-sampling: None</span>"
      ],
      "text/plain": [
       "<IPython.core.display.HTML object>"
      ]
     },
     "metadata": {},
     "output_type": "display_data"
    },
    {
     "data": {
      "text/html": [
       "<span style=\"color:cyan\"> |-step: 32</span>"
      ],
      "text/plain": [
       "<IPython.core.display.HTML object>"
      ]
     },
     "metadata": {},
     "output_type": "display_data"
    }
   ],
   "source": [
    "tuner.search_space_summary()\n"
   ]
  },
  {
   "cell_type": "code",
   "execution_count": null,
   "metadata": {},
   "outputs": [
    {
     "name": "stdout",
     "output_type": "stream",
     "text": [
      "Epoch 1/10\n",
      "75/75 [==============================] - ETA: 0s - loss: 0.7371 - accuracy: 0.60 - ETA: 0s - loss: 1.0845 - accuracy: 0.49 - ETA: 0s - loss: 0.9708 - accuracy: 0.48 - ETA: 0s - loss: 0.8824 - accuracy: 0.51 - ETA: 0s - loss: 0.8473 - accuracy: 0.50 - ETA: 0s - loss: 0.8195 - accuracy: 0.49 - ETA: 0s - loss: 0.8012 - accuracy: 0.50 - ETA: 0s - loss: 0.7895 - accuracy: 0.50 - ETA: 0s - loss: 0.7746 - accuracy: 0.50 - ETA: 0s - loss: 0.7761 - accuracy: 0.50 - ETA: 0s - loss: 0.7734 - accuracy: 0.50 - 1s 11ms/step - loss: 0.7721 - accuracy: 0.5083 - val_loss: 0.7128 - val_accuracy: 0.5000\n",
      "Epoch 2/10\n",
      "75/75 [==============================] - ETA: 0s - loss: 0.6601 - accuracy: 0.56 - ETA: 0s - loss: 0.7338 - accuracy: 0.49 - ETA: 0s - loss: 0.7372 - accuracy: 0.51 - ETA: 0s - loss: 0.7537 - accuracy: 0.51 - ETA: 0s - loss: 0.7429 - accuracy: 0.52 - ETA: 0s - loss: 0.7418 - accuracy: 0.54 - ETA: 0s - loss: 0.7400 - accuracy: 0.53 - ETA: 0s - loss: 0.7366 - accuracy: 0.54 - ETA: 0s - loss: 0.7275 - accuracy: 0.53 - ETA: 0s - loss: 0.7197 - accuracy: 0.54 - ETA: 0s - loss: 0.7166 - accuracy: 0.54 - 1s 10ms/step - loss: 0.7193 - accuracy: 0.5483 - val_loss: 0.7260 - val_accuracy: 0.5962\n",
      "Epoch 3/10\n",
      "75/75 [==============================] - ETA: 0s - loss: 0.6065 - accuracy: 0.80 - ETA: 0s - loss: 0.6376 - accuracy: 0.61 - ETA: 0s - loss: 0.6624 - accuracy: 0.59 - ETA: 0s - loss: 0.6742 - accuracy: 0.59 - ETA: 0s - loss: 0.6822 - accuracy: 0.57 - ETA: 0s - loss: 0.6829 - accuracy: 0.57 - ETA: 0s - loss: 0.6776 - accuracy: 0.57 - ETA: 0s - loss: 0.6737 - accuracy: 0.58 - ETA: 0s - loss: 0.6784 - accuracy: 0.57 - ETA: 0s - loss: 0.6784 - accuracy: 0.57 - 1s 9ms/step - loss: 0.6776 - accuracy: 0.5733 - val_loss: 0.6926 - val_accuracy: 0.6025\n",
      "Epoch 4/10\n",
      "75/75 [==============================] - ETA: 0s - loss: 0.8017 - accuracy: 0.52 - ETA: 0s - loss: 0.6683 - accuracy: 0.60 - ETA: 0s - loss: 0.6779 - accuracy: 0.60 - ETA: 0s - loss: 0.6663 - accuracy: 0.60 - ETA: 0s - loss: 0.6611 - accuracy: 0.60 - ETA: 0s - loss: 0.6603 - accuracy: 0.59 - ETA: 0s - loss: 0.6536 - accuracy: 0.60 - ETA: 0s - loss: 0.6532 - accuracy: 0.60 - ETA: 0s - loss: 0.6534 - accuracy: 0.59 - ETA: 0s - loss: 0.6536 - accuracy: 0.60 - 1s 8ms/step - loss: 0.6525 - accuracy: 0.5963 - val_loss: 0.6634 - val_accuracy: 0.5688\n",
      "Epoch 5/10\n",
      "75/75 [==============================] - ETA: 0s - loss: 0.5717 - accuracy: 0.60 - ETA: 0s - loss: 0.6245 - accuracy: 0.62 - ETA: 0s - loss: 0.6818 - accuracy: 0.58 - ETA: 0s - loss: 0.6930 - accuracy: 0.58 - ETA: 0s - loss: 0.6854 - accuracy: 0.57 - ETA: 0s - loss: 0.6884 - accuracy: 0.57 - ETA: 0s - loss: 0.6877 - accuracy: 0.57 - ETA: 0s - loss: 0.7086 - accuracy: 0.57 - ETA: 0s - loss: 0.7053 - accuracy: 0.57 - ETA: 0s - loss: 0.7173 - accuracy: 0.57 - ETA: 0s - loss: 0.7139 - accuracy: 0.57 - 1s 9ms/step - loss: 0.7113 - accuracy: 0.5712 - val_loss: 0.6628 - val_accuracy: 0.5650\n",
      "Epoch 6/10\n",
      "75/75 [==============================] - ETA: 0s - loss: 0.6075 - accuracy: 0.68 - ETA: 0s - loss: 0.6615 - accuracy: 0.55 - ETA: 0s - loss: 0.6471 - accuracy: 0.60 - ETA: 0s - loss: 0.6478 - accuracy: 0.59 - ETA: 0s - loss: 0.6554 - accuracy: 0.59 - ETA: 0s - loss: 0.6633 - accuracy: 0.59 - ETA: 0s - loss: 0.6653 - accuracy: 0.60 - ETA: 0s - loss: 0.6590 - accuracy: 0.60 - ETA: 0s - loss: 0.6585 - accuracy: 0.60 - ETA: 0s - loss: 0.6585 - accuracy: 0.60 - ETA: 0s - loss: 0.6579 - accuracy: 0.60 - 1s 9ms/step - loss: 0.6570 - accuracy: 0.6011 - val_loss: 0.6578 - val_accuracy: 0.6325\n",
      "Epoch 7/10\n",
      "75/75 [==============================] - ETA: 0s - loss: 0.6695 - accuracy: 0.56 - ETA: 0s - loss: 0.6388 - accuracy: 0.61 - ETA: 0s - loss: 0.6473 - accuracy: 0.61 - ETA: 0s - loss: 0.6350 - accuracy: 0.62 - ETA: 0s - loss: 0.6320 - accuracy: 0.62 - ETA: 0s - loss: 0.6389 - accuracy: 0.62 - ETA: 0s - loss: 0.6512 - accuracy: 0.61 - ETA: 0s - loss: 0.6568 - accuracy: 0.60 - ETA: 0s - loss: 0.6683 - accuracy: 0.60 - ETA: 0s - loss: 0.6632 - accuracy: 0.60 - ETA: 0s - loss: 0.6639 - accuracy: 0.59 - 1s 9ms/step - loss: 0.6629 - accuracy: 0.5952 - val_loss: 0.6540 - val_accuracy: 0.5763\n",
      "Epoch 8/10\n",
      "75/75 [==============================] - ETA: 0s - loss: 0.5618 - accuracy: 0.68 - ETA: 0s - loss: 0.6257 - accuracy: 0.60 - ETA: 0s - loss: 0.6371 - accuracy: 0.60 - ETA: 0s - loss: 0.6443 - accuracy: 0.61 - ETA: 0s - loss: 0.6386 - accuracy: 0.61 - ETA: 0s - loss: 0.6431 - accuracy: 0.61 - ETA: 0s - loss: 0.6449 - accuracy: 0.61 - ETA: 0s - loss: 0.6418 - accuracy: 0.62 - ETA: 0s - loss: 0.6330 - accuracy: 0.62 - ETA: 0s - loss: 0.6333 - accuracy: 0.62 - ETA: 0s - loss: 0.6354 - accuracy: 0.62 - 1s 9ms/step - loss: 0.6330 - accuracy: 0.6219 - val_loss: 0.6473 - val_accuracy: 0.6263\n",
      "Epoch 9/10\n",
      "75/75 [==============================] - ETA: 0s - loss: 0.6580 - accuracy: 0.60 - ETA: 0s - loss: 0.6189 - accuracy: 0.64 - ETA: 0s - loss: 0.5916 - accuracy: 0.67 - ETA: 0s - loss: 0.6012 - accuracy: 0.66 - ETA: 0s - loss: 0.6090 - accuracy: 0.64 - ETA: 0s - loss: 0.6104 - accuracy: 0.64 - ETA: 0s - loss: 0.6178 - accuracy: 0.63 - ETA: 0s - loss: 0.6180 - accuracy: 0.63 - ETA: 0s - loss: 0.6192 - accuracy: 0.62 - ETA: 0s - loss: 0.6135 - accuracy: 0.63 - ETA: 0s - loss: 0.6158 - accuracy: 0.63 - 1s 8ms/step - loss: 0.6156 - accuracy: 0.6352 - val_loss: 0.6694 - val_accuracy: 0.5850\n",
      "Epoch 10/10\n",
      "75/75 [==============================] - ETA: 0s - loss: 0.6161 - accuracy: 0.60 - ETA: 0s - loss: 0.6329 - accuracy: 0.59 - ETA: 0s - loss: 0.6123 - accuracy: 0.63 - ETA: 0s - loss: 0.6244 - accuracy: 0.63 - ETA: 0s - loss: 0.6124 - accuracy: 0.65 - ETA: 0s - loss: 0.6121 - accuracy: 0.65 - ETA: 0s - loss: 0.6074 - accuracy: 0.66 - ETA: 0s - loss: 0.6207 - accuracy: 0.65 - ETA: 0s - loss: 0.6162 - accuracy: 0.66 - ETA: 0s - loss: 0.6199 - accuracy: 0.66 - ETA: 0s - loss: 0.6186 - accuracy: 0.66 - 1s 9ms/step - loss: 0.6202 - accuracy: 0.6629 - val_loss: 0.6711 - val_accuracy: 0.5938\n",
      "Epoch 1/10\n",
      "75/75 [==============================] - ETA: 0s - loss: 0.7123 - accuracy: 0.52 - ETA: 0s - loss: 1.1191 - accuracy: 0.47 - ETA: 0s - loss: 0.9100 - accuracy: 0.52 - ETA: 0s - loss: 0.8831 - accuracy: 0.51 - ETA: 0s - loss: 0.8430 - accuracy: 0.53 - ETA: 0s - loss: 0.8384 - accuracy: 0.52 - ETA: 0s - loss: 0.8106 - accuracy: 0.52 - ETA: 0s - loss: 0.7996 - accuracy: 0.52 - ETA: 0s - loss: 0.7856 - accuracy: 0.53 - ETA: 0s - loss: 0.7745 - accuracy: 0.54 - ETA: 0s - loss: 0.7732 - accuracy: 0.54 - 1s 10ms/step - loss: 0.7767 - accuracy: 0.5483 - val_loss: 0.7524 - val_accuracy: 0.6263\n",
      "Epoch 2/10\n",
      "75/75 [==============================] - ETA: 0s - loss: 0.7404 - accuracy: 0.64 - ETA: 0s - loss: 1.1579 - accuracy: 0.50 - ETA: 0s - loss: 1.2062 - accuracy: 0.48 - ETA: 0s - loss: 1.1648 - accuracy: 0.49 - ETA: 0s - loss: 1.0922 - accuracy: 0.50 - ETA: 0s - loss: 1.0827 - accuracy: 0.49 - ETA: 0s - loss: 1.0388 - accuracy: 0.50 - ETA: 0s - loss: 1.0104 - accuracy: 0.51 - ETA: 0s - loss: 0.9949 - accuracy: 0.50 - ETA: 0s - loss: 0.9822 - accuracy: 0.50 - ETA: 0s - loss: 0.9574 - accuracy: 0.51 - 1s 9ms/step - loss: 0.9459 - accuracy: 0.5163 - val_loss: 0.7154 - val_accuracy: 0.5000\n",
      "Epoch 3/10\n",
      "75/75 [==============================] - ETA: 0s - loss: 0.7189 - accuracy: 0.44 - ETA: 0s - loss: 0.7702 - accuracy: 0.48 - ETA: 0s - loss: 0.7665 - accuracy: 0.51 - ETA: 0s - loss: 0.7721 - accuracy: 0.50 - ETA: 0s - loss: 0.7658 - accuracy: 0.50 - ETA: 0s - loss: 0.7550 - accuracy: 0.52 - ETA: 0s - loss: 0.7582 - accuracy: 0.51 - ETA: 0s - loss: 0.7531 - accuracy: 0.51 - ETA: 0s - loss: 0.7438 - accuracy: 0.52 - ETA: 0s - loss: 0.7383 - accuracy: 0.53 - ETA: 0s - loss: 0.7337 - accuracy: 0.54 - 1s 9ms/step - loss: 0.7282 - accuracy: 0.5435 - val_loss: 0.7101 - val_accuracy: 0.5038\n",
      "Epoch 4/10\n"
     ]
    },
    {
     "name": "stdout",
     "output_type": "stream",
     "text": [
      "75/75 [==============================] - ETA: 0s - loss: 0.6895 - accuracy: 0.48 - ETA: 0s - loss: 0.6712 - accuracy: 0.58 - ETA: 0s - loss: 0.6442 - accuracy: 0.60 - ETA: 0s - loss: 0.6397 - accuracy: 0.61 - ETA: 0s - loss: 0.6792 - accuracy: 0.59 - ETA: 0s - loss: 0.7110 - accuracy: 0.57 - ETA: 0s - loss: 0.7121 - accuracy: 0.59 - ETA: 0s - loss: 0.7188 - accuracy: 0.58 - ETA: 0s - loss: 0.7328 - accuracy: 0.58 - ETA: 0s - loss: 0.7194 - accuracy: 0.59 - ETA: 0s - loss: 0.7092 - accuracy: 0.59 - 1s 9ms/step - loss: 0.7063 - accuracy: 0.5989 - val_loss: 0.6847 - val_accuracy: 0.6037\n",
      "Epoch 5/10\n",
      "75/75 [==============================] - ETA: 0s - loss: 0.6567 - accuracy: 0.56 - ETA: 0s - loss: 0.6658 - accuracy: 0.57 - ETA: 0s - loss: 0.6878 - accuracy: 0.56 - ETA: 0s - loss: 0.6887 - accuracy: 0.58 - ETA: 0s - loss: 0.6808 - accuracy: 0.59 - ETA: 0s - loss: 0.6716 - accuracy: 0.59 - ETA: 0s - loss: 0.6712 - accuracy: 0.59 - ETA: 0s - loss: 0.6821 - accuracy: 0.58 - ETA: 0s - loss: 0.7181 - accuracy: 0.57 - ETA: 0s - loss: 0.7130 - accuracy: 0.57 - ETA: 0s - loss: 0.7036 - accuracy: 0.58 - 1s 9ms/step - loss: 0.7029 - accuracy: 0.5840 - val_loss: 0.6707 - val_accuracy: 0.6162\n",
      "Epoch 6/10\n",
      "75/75 [==============================] - ETA: 0s - loss: 0.5919 - accuracy: 0.68 - ETA: 0s - loss: 0.7783 - accuracy: 0.60 - ETA: 0s - loss: 0.7240 - accuracy: 0.60 - ETA: 0s - loss: 0.6925 - accuracy: 0.61 - ETA: 0s - loss: 0.6840 - accuracy: 0.60 - ETA: 0s - loss: 0.6760 - accuracy: 0.61 - ETA: 0s - loss: 0.6690 - accuracy: 0.61 - ETA: 0s - loss: 0.6605 - accuracy: 0.62 - ETA: 0s - loss: 0.6546 - accuracy: 0.62 - ETA: 0s - loss: 0.6498 - accuracy: 0.63 - ETA: 0s - loss: 0.6520 - accuracy: 0.62 - 1s 9ms/step - loss: 0.6498 - accuracy: 0.6309 - val_loss: 0.6729 - val_accuracy: 0.5863\n",
      "Epoch 7/10\n",
      "75/75 [==============================] - ETA: 0s - loss: 0.5626 - accuracy: 0.60 - ETA: 0s - loss: 0.6112 - accuracy: 0.66 - ETA: 0s - loss: 0.5904 - accuracy: 0.69 - ETA: 0s - loss: 0.6286 - accuracy: 0.65 - ETA: 0s - loss: 0.6375 - accuracy: 0.65 - ETA: 0s - loss: 0.6265 - accuracy: 0.67 - ETA: 0s - loss: 0.6380 - accuracy: 0.65 - ETA: 0s - loss: 0.6408 - accuracy: 0.64 - ETA: 0s - loss: 0.6860 - accuracy: 0.62 - ETA: 0s - loss: 0.6875 - accuracy: 0.62 - ETA: 0s - loss: 0.6851 - accuracy: 0.61 - 1s 9ms/step - loss: 0.6877 - accuracy: 0.6165 - val_loss: 0.7466 - val_accuracy: 0.5063\n",
      "Epoch 8/10\n",
      "75/75 [==============================] - ETA: 0s - loss: 0.7043 - accuracy: 0.52 - ETA: 0s - loss: 0.7282 - accuracy: 0.59 - ETA: 0s - loss: 0.7272 - accuracy: 0.56 - ETA: 0s - loss: 0.7136 - accuracy: 0.56 - ETA: 0s - loss: 0.7150 - accuracy: 0.56 - ETA: 0s - loss: 0.7037 - accuracy: 0.56 - ETA: 0s - loss: 0.6934 - accuracy: 0.56 - ETA: 0s - loss: 0.6864 - accuracy: 0.57 - ETA: 0s - loss: 0.6807 - accuracy: 0.57 - ETA: 0s - loss: 0.6797 - accuracy: 0.58 - 1s 8ms/step - loss: 0.6766 - accuracy: 0.5813 - val_loss: 0.6561 - val_accuracy: 0.6225\n",
      "Epoch 9/10\n",
      "75/75 [==============================] - ETA: 0s - loss: 0.5628 - accuracy: 0.72 - ETA: 0s - loss: 0.5953 - accuracy: 0.68 - ETA: 0s - loss: 0.6173 - accuracy: 0.64 - ETA: 0s - loss: 0.6325 - accuracy: 0.62 - ETA: 0s - loss: 0.6216 - accuracy: 0.63 - ETA: 0s - loss: 0.6215 - accuracy: 0.64 - ETA: 0s - loss: 0.6234 - accuracy: 0.63 - ETA: 0s - loss: 0.6329 - accuracy: 0.63 - ETA: 0s - loss: 0.6500 - accuracy: 0.62 - ETA: 0s - loss: 0.6446 - accuracy: 0.62 - ETA: 0s - loss: 0.6439 - accuracy: 0.62 - 1s 10ms/step - loss: 0.6450 - accuracy: 0.6187 - val_loss: 0.6604 - val_accuracy: 0.6350\n",
      "Epoch 10/10\n",
      "75/75 [==============================] - ETA: 0s - loss: 0.7250 - accuracy: 0.68 - ETA: 0s - loss: 0.6191 - accuracy: 0.65 - ETA: 0s - loss: 0.6369 - accuracy: 0.60 - ETA: 0s - loss: 0.6631 - accuracy: 0.58 - ETA: 0s - loss: 0.6570 - accuracy: 0.58 - ETA: 0s - loss: 0.6423 - accuracy: 0.60 - ETA: 0s - loss: 0.6475 - accuracy: 0.60 - ETA: 0s - loss: 0.6558 - accuracy: 0.59 - ETA: 0s - loss: 0.6668 - accuracy: 0.59 - ETA: 0s - loss: 0.6672 - accuracy: 0.58 - 1s 8ms/step - loss: 0.6614 - accuracy: 0.6000 - val_loss: 0.7382 - val_accuracy: 0.5288\n",
      "Epoch 1/10\n",
      "75/75 [==============================] - ETA: 0s - loss: 0.7042 - accuracy: 0.68 - ETA: 0s - loss: 1.1619 - accuracy: 0.52 - ETA: 0s - loss: 0.9568 - accuracy: 0.50 - ETA: 0s - loss: 0.8774 - accuracy: 0.51 - ETA: 0s - loss: 0.8364 - accuracy: 0.51 - ETA: 0s - loss: 0.8157 - accuracy: 0.52 - ETA: 0s - loss: 0.8105 - accuracy: 0.52 - ETA: 0s - loss: 0.7951 - accuracy: 0.53 - ETA: 0s - loss: 0.7866 - accuracy: 0.52 - ETA: 0s - loss: 0.7783 - accuracy: 0.52 - 1s 9ms/step - loss: 0.7794 - accuracy: 0.5237 - val_loss: 0.7662 - val_accuracy: 0.5163\n",
      "Epoch 2/10\n",
      "75/75 [==============================] - ETA: 0s - loss: 0.7188 - accuracy: 0.56 - ETA: 0s - loss: 0.6879 - accuracy: 0.48 - ETA: 0s - loss: 0.6836 - accuracy: 0.47 - ETA: 0s - loss: 0.6843 - accuracy: 0.50 - ETA: 0s - loss: 0.6862 - accuracy: 0.52 - ETA: 0s - loss: 0.6800 - accuracy: 0.53 - ETA: 0s - loss: 0.6827 - accuracy: 0.53 - ETA: 0s - loss: 0.6817 - accuracy: 0.53 - ETA: 0s - loss: 0.6828 - accuracy: 0.54 - ETA: 0s - loss: 0.6863 - accuracy: 0.53 - 1s 8ms/step - loss: 0.6876 - accuracy: 0.5371 - val_loss: 0.7252 - val_accuracy: 0.5700\n",
      "Epoch 3/10\n",
      "75/75 [==============================] - ETA: 0s - loss: 0.8718 - accuracy: 0.36 - ETA: 0s - loss: 0.7225 - accuracy: 0.51 - ETA: 0s - loss: 0.6923 - accuracy: 0.56 - ETA: 0s - loss: 0.6945 - accuracy: 0.54 - ETA: 0s - loss: 0.6911 - accuracy: 0.55 - ETA: 0s - loss: 0.6888 - accuracy: 0.55 - ETA: 0s - loss: 0.6847 - accuracy: 0.55 - ETA: 0s - loss: 0.6827 - accuracy: 0.56 - ETA: 0s - loss: 0.6816 - accuracy: 0.56 - ETA: 0s - loss: 0.6800 - accuracy: 0.57 - 1s 8ms/step - loss: 0.6775 - accuracy: 0.5755 - val_loss: 0.6512 - val_accuracy: 0.5987\n",
      "Epoch 4/10\n",
      "75/75 [==============================] - ETA: 0s - loss: 0.6315 - accuracy: 0.64 - ETA: 0s - loss: 0.6704 - accuracy: 0.55 - ETA: 0s - loss: 0.6733 - accuracy: 0.55 - ETA: 0s - loss: 0.6580 - accuracy: 0.57 - ETA: 0s - loss: 0.6612 - accuracy: 0.56 - ETA: 0s - loss: 0.6697 - accuracy: 0.57 - ETA: 0s - loss: 0.6733 - accuracy: 0.56 - ETA: 0s - loss: 0.6769 - accuracy: 0.56 - ETA: 0s - loss: 0.6746 - accuracy: 0.56 - ETA: 0s - loss: 0.6793 - accuracy: 0.54 - ETA: 0s - loss: 0.6797 - accuracy: 0.55 - 1s 8ms/step - loss: 0.6797 - accuracy: 0.5509 - val_loss: 0.6965 - val_accuracy: 0.6050\n",
      "Epoch 5/10\n",
      "75/75 [==============================] - ETA: 0s - loss: 0.7829 - accuracy: 0.56 - ETA: 0s - loss: 0.7096 - accuracy: 0.55 - ETA: 0s - loss: 0.6999 - accuracy: 0.55 - ETA: 0s - loss: 0.6943 - accuracy: 0.53 - ETA: 0s - loss: 0.6899 - accuracy: 0.52 - ETA: 0s - loss: 0.6829 - accuracy: 0.52 - ETA: 0s - loss: 0.6745 - accuracy: 0.52 - ETA: 0s - loss: 0.6721 - accuracy: 0.54 - ETA: 0s - loss: 0.6718 - accuracy: 0.54 - ETA: 0s - loss: 0.6694 - accuracy: 0.54 - 1s 8ms/step - loss: 0.6691 - accuracy: 0.5515 - val_loss: 0.6538 - val_accuracy: 0.5962\n",
      "Epoch 6/10\n",
      "75/75 [==============================] - ETA: 0s - loss: 0.6615 - accuracy: 0.56 - ETA: 0s - loss: 0.6518 - accuracy: 0.59 - ETA: 0s - loss: 0.6582 - accuracy: 0.57 - ETA: 0s - loss: 0.6620 - accuracy: 0.57 - ETA: 0s - loss: 0.6641 - accuracy: 0.58 - ETA: 0s - loss: 0.6621 - accuracy: 0.58 - ETA: 0s - loss: 0.6625 - accuracy: 0.57 - ETA: 0s - loss: 0.6588 - accuracy: 0.58 - ETA: 0s - loss: 0.6540 - accuracy: 0.58 - ETA: 0s - loss: 0.6525 - accuracy: 0.59 - ETA: 0s - loss: 0.6565 - accuracy: 0.58 - 1s 9ms/step - loss: 0.6607 - accuracy: 0.5872 - val_loss: 0.6902 - val_accuracy: 0.6050\n",
      "Epoch 7/10\n",
      "75/75 [==============================] - ETA: 0s - loss: 0.6453 - accuracy: 0.60 - ETA: 0s - loss: 0.6782 - accuracy: 0.58 - ETA: 0s - loss: 0.6822 - accuracy: 0.58 - ETA: 0s - loss: 0.6745 - accuracy: 0.57 - ETA: 0s - loss: 0.6723 - accuracy: 0.56 - ETA: 0s - loss: 0.6696 - accuracy: 0.56 - ETA: 0s - loss: 0.6647 - accuracy: 0.57 - ETA: 0s - loss: 0.6654 - accuracy: 0.57 - ETA: 0s - loss: 0.6645 - accuracy: 0.58 - ETA: 0s - loss: 0.6618 - accuracy: 0.58 - ETA: 0s - loss: 0.6602 - accuracy: 0.58 - 1s 9ms/step - loss: 0.6571 - accuracy: 0.5856 - val_loss: 0.6516 - val_accuracy: 0.6350\n",
      "Epoch 8/10\n"
     ]
    },
    {
     "name": "stdout",
     "output_type": "stream",
     "text": [
      "75/75 [==============================] - ETA: 0s - loss: 0.5774 - accuracy: 0.64 - ETA: 0s - loss: 0.6489 - accuracy: 0.63 - ETA: 0s - loss: 0.6533 - accuracy: 0.60 - ETA: 0s - loss: 0.6544 - accuracy: 0.60 - ETA: 0s - loss: 0.6538 - accuracy: 0.59 - ETA: 0s - loss: 0.6612 - accuracy: 0.59 - ETA: 0s - loss: 0.6618 - accuracy: 0.59 - ETA: 0s - loss: 0.6675 - accuracy: 0.57 - ETA: 0s - loss: 0.6705 - accuracy: 0.57 - ETA: 0s - loss: 0.6719 - accuracy: 0.57 - ETA: 0s - loss: 0.6734 - accuracy: 0.5600"
     ]
    }
   ],
   "source": [
    "tuner.search(\n",
    "    train_ds, \n",
    "    validation_data=val_ds, \n",
    "    epochs=num_epochs,\n",
    "    steps_per_epoch=steps_per_epoch)"
   ]
  },
  {
   "cell_type": "code",
   "execution_count": null,
   "metadata": {},
   "outputs": [],
   "source": []
  }
 ],
 "metadata": {
  "kernelspec": {
   "display_name": "Python [conda env:.conda-tf-gpu]",
   "language": "python",
   "name": "conda-env-.conda-tf-gpu-py"
  },
  "language_info": {
   "codemirror_mode": {
    "name": "ipython",
    "version": 3
   },
   "file_extension": ".py",
   "mimetype": "text/x-python",
   "name": "python",
   "nbconvert_exporter": "python",
   "pygments_lexer": "ipython3",
   "version": "3.8.6"
  }
 },
 "nbformat": 4,
 "nbformat_minor": 4
}
